{
  "nbformat": 4,
  "nbformat_minor": 0,
  "metadata": {
    "colab": {
      "provenance": [],
      "authorship_tag": "ABX9TyMpBoZrp8CBDAvUeN2MoxHj",
      "include_colab_link": true
    },
    "kernelspec": {
      "name": "python3",
      "display_name": "Python 3"
    },
    "language_info": {
      "name": "python"
    }
  },
  "cells": [
    {
      "cell_type": "markdown",
      "metadata": {
        "id": "view-in-github",
        "colab_type": "text"
      },
      "source": [
        "<a href=\"https://colab.research.google.com/github/Luke-code2025/AI-Ethics/blob/main/AI_Ethics.ipynb\" target=\"_parent\"><img src=\"https://colab.research.google.com/assets/colab-badge.svg\" alt=\"Open In Colab\"/></a>"
      ]
    },
    {
      "cell_type": "code",
      "source": [
        "# Upload data\n",
        "import pandas as pd\n",
        "\n",
        "# Load from CSV file\n",
        "df = pd.read_csv('compas-scores-two-years.csv')\n",
        "\n",
        "# Filter as done in ProPublica's analysis\n",
        "df = df[(df.days_b_screening_arrest <= 30) &\n",
        "        (df.days_b_screening_arrest >= -30) &\n",
        "        (df.is_recid != -1) &\n",
        "        (df.c_charge_degree != 'O') &\n",
        "        (df.score_text != 'N/A')]\n",
        "\n",
        "# Keep only African-American and Caucasian\n",
        "df = df[df['race'].isin(['African-American', 'Caucasian'])]\n",
        "\n",
        "# Define label (2yr recidivism) and protected attribute\n",
        "df['race_binary'] = df['race'].apply(lambda x: 1 if x == 'Caucasian' else 0)\n",
        "df['label'] = df['two_year_recid']\n",
        "\n",
        "# Features to keep\n",
        "features = ['sex', 'age', 'juv_fel_count', 'juv_misd_count', 'juv_other_count',\n",
        "            'priors_count', 'c_charge_degree', 'race_binary', 'label']\n",
        "\n",
        "df = df[features].dropna()\n"
      ],
      "metadata": {
        "id": "gikEPKKobrkR"
      },
      "execution_count": null,
      "outputs": []
    },
    {
      "cell_type": "code",
      "source": [
        "from aif360.datasets import BinaryLabelDataset\n",
        "\n",
        "# Convert to BinaryLabelDataset\n",
        "dataset = BinaryLabelDataset(df=pd.get_dummies(df, drop_first=True),\n",
        "                             label_names=['label'],\n",
        "                             protected_attribute_names=['race_binary'],\n",
        "                             favorable_label=0,\n",
        "                             unfavorable_label=1)\n"
      ],
      "metadata": {
        "id": "Tqzht7EBbvYT"
      },
      "execution_count": null,
      "outputs": []
    },
    {
      "cell_type": "code",
      "source": [
        "from google.colab import drive\n",
        "drive.mount('/content/drive')"
      ],
      "metadata": {
        "id": "iYoecuP6nQj0"
      },
      "execution_count": null,
      "outputs": []
    },
    {
      "cell_type": "code",
      "source": [
        "from aif360.metrics import BinaryLabelDatasetMetric, ClassificationMetric\n",
        "from aif360.algorithms.preprocessing import Reweighing\n",
        "from sklearn.linear_model import LogisticRegression\n",
        "from sklearn.preprocessing import StandardScaler\n",
        "from sklearn.metrics import accuracy_score\n",
        "\n",
        "# Privileged = Caucasian (1), Unprivileged = African-American (0)\n",
        "privileged = [{'race_binary': 1}]\n",
        "unprivileged = [{'race_binary': 0}]\n",
        "\n",
        "# Fairness metric before mitigation\n",
        "metric_orig = BinaryLabelDatasetMetric(dataset, privileged, unprivileged)\n",
        "print(\"Original Disparate Impact:\", metric_orig.disparate_impact())\n",
        "\n",
        "# Split\n",
        "train, test = dataset.split([0.7], shuffle=True)\n",
        "\n",
        "# Reweighing\n",
        "rw = Reweighing(privileged, unprivileged)\n",
        "train_transf = rw.fit_transform(train)\n",
        "\n",
        "# Train model\n",
        "X_train = StandardScaler().fit_transform(train_transf.features)\n",
        "y_train = train_transf.labels.ravel()\n",
        "\n",
        "clf = LogisticRegression(solver='liblinear')\n",
        "clf.fit(X_train, y_train, sample_weight=train_transf.instance_weights)\n",
        "\n",
        "# Predict\n",
        "X_test = StandardScaler().fit_transform(test.features)\n",
        "y_test = test.labels.ravel()\n",
        "y_pred = clf.predict(X_test)\n",
        "\n",
        "# Evaluate predictions\n",
        "test_pred = test.copy()\n",
        "test_pred.labels = y_pred\n",
        "\n",
        "metric_post = ClassificationMetric(test, test_pred, privileged, unprivileged)\n",
        "print(\"Equal Opportunity Difference:\", metric_post.equal_opportunity_difference())\n",
        "print(\"Average Odds Difference:\", metric_post.average_odds_difference())\n",
        "print(\"Accuracy:\", accuracy_score(y_test, y_pred))\n"
      ],
      "metadata": {
        "colab": {
          "base_uri": "https://localhost:8080/"
        },
        "id": "Z17BdoAVb1mN",
        "outputId": "fd114696-7801-4ef3-a813-cfaccb925f7d"
      },
      "execution_count": null,
      "outputs": [
        {
          "output_type": "stream",
          "name": "stdout",
          "text": [
            "Original Disparate Impact: 1.2774023521785258\n",
            "Equal Opportunity Difference: -0.08066424506312342\n",
            "Average Odds Difference: -0.04513010232954151\n",
            "Accuracy: 0.6502525252525253\n"
          ]
        }
      ]
    },
    {
      "cell_type": "code",
      "source": [
        "import matplotlib.pyplot as plt\n",
        "\n",
        "def plot_disparities():\n",
        "    metrics = {\n",
        "        \"False Positive Rate\": (\n",
        "            metric_post.false_positive_rate(privileged=True),\n",
        "            metric_post.false_positive_rate(privileged=False),\n",
        "        ),\n",
        "        \"False Negative Rate\": (\n",
        "            metric_post.false_negative_rate(privileged=True),\n",
        "            metric_post.false_negative_rate(privileged=False),\n",
        "        )\n",
        "    }\n",
        "\n",
        "    df_metrics = pd.DataFrame(metrics, index=[\"Privileged\", \"Unprivileged\"]).T\n",
        "    df_metrics.plot(kind=\"bar\", figsize=(8, 5), colormap='Set2')\n",
        "    plt.title(\"Disparities in Error Rates by Race\")\n",
        "    plt.ylabel(\"Rate\")\n",
        "    plt.xticks(rotation=0)\n",
        "    plt.tight_layout()\n",
        "    plt.savefig(\"bias_disparities_custom.png\")\n",
        "    plt.show()\n",
        "\n",
        "plot_disparities()\n"
      ],
      "metadata": {
        "colab": {
          "base_uri": "https://localhost:8080/",
          "height": 527
        },
        "id": "Q_K03SWqb9QX",
        "outputId": "6a26b425-2f77-41a2-e0d5-17b1f6094b03"
      },
      "execution_count": null,
      "outputs": [
        {
          "output_type": "display_data",
          "data": {
            "text/plain": [
              "<Figure size 800x500 with 1 Axes>"
            ],
            "image/png": "[encoded data removed]"
          },
          "metadata": {}
        }
      ]
    }
  ]
}